{
 "cells": [
  {
   "cell_type": "code",
   "execution_count": 300,
   "metadata": {
    "collapsed": true
   },
   "outputs": [],
   "source": [
    "import cv2\n",
    "import glob\n",
    "import matplotlib.pyplot as plt\n",
    "import numpy as np\n",
    "import pickle\n",
    "\n",
    "from sklearn.linear_model import SGDClassifier\n",
    "from sklearn.metrics import confusion_matrix\n",
    "from sklearn.model_selection import cross_val_predict, cross_val_score\n",
    "from sklearn.model_selection import train_test_split"
   ]
  },
  {
   "cell_type": "code",
   "execution_count": 301,
   "metadata": {
    "collapsed": true
   },
   "outputs": [],
   "source": [
    "cascade_path = 'haarcascade_frontalface_default.xml'\n",
    "face_cascade = cv2.CascadeClassifier(cascade_path)\n",
    "image_size = 100\n",
    "emotions_dictionary = [None, 'anger', 'contempt', 'disgust', 'fear', 'happy', 'sadness', 'surprise']"
   ]
  },
  {
   "cell_type": "code",
   "execution_count": 302,
   "metadata": {
    "collapsed": true
   },
   "outputs": [],
   "source": [
    "def extract_face(image):\n",
    "    x, y, w, h = face_cascade.detectMultiScale(\n",
    "        image,\n",
    "        scaleFactor=1.1,\n",
    "        minNeighbors=6\n",
    "    )[0]\n",
    "\n",
    "    face = image[y:y + h, x:x + w]\n",
    "    resized_face = cv2.resize(face, (image_size, image_size))\n",
    "\n",
    "    return resized_face"
   ]
  },
  {
   "cell_type": "code",
   "execution_count": 303,
   "metadata": {
    "collapsed": true
   },
   "outputs": [],
   "source": [
    "def load_and_process_image(filename):\n",
    "    return extract_face(cv2.imread(filename, cv2.IMREAD_GRAYSCALE)).flatten()"
   ]
  },
  {
   "cell_type": "code",
   "execution_count": 304,
   "metadata": {
    "collapsed": true
   },
   "outputs": [],
   "source": [
    "def images_emotions_data(participant_id, session_id):\n",
    "    emotion_files = glob.glob('CK+/Emotion/{}/{}/*'.format(participant_id, session_id))\n",
    "    if len(emotion_files) == 0:\n",
    "        return [[], []]\n",
    "\n",
    "    emotion_filename = emotion_files[0]\n",
    "    with open(emotion_filename, 'r') as emotion_file:\n",
    "        emotion = emotions_dictionary[int(float(emotion_file.read()))]\n",
    "\n",
    "    if emotion == 'contempt' or emotion is None: # remove contempt\n",
    "        return [[], []]\n",
    "\n",
    "    session_images = sorted(glob.glob('CK+/cohn-kanade-images/{}/{}/*'.format(participant_id, session_id)))\n",
    "\n",
    "    length = int(len(session_images) / 4)\n",
    "\n",
    "    images = [session_images[-1 - i] for i in range(length)]\n",
    "    data = (load_and_process_image(image_file) for image_file in images)\n",
    "\n",
    "    return [data, [emotion for i in range(length)]]"
   ]
  },
  {
   "cell_type": "code",
   "execution_count": 306,
   "metadata": {
    "collapsed": true
   },
   "outputs": [],
   "source": [
    "def save_classifier(classifier, filename):\n",
    "    with open(filename, 'sr+') as f:\n",
    "        p = pickle.dumps(classifier)\n",
    "        f.write(p)\n",
    "\n",
    "def load_classifier(filename):\n",
    "    with open(filename, 'rb') as f:\n",
    "        return pickle.loads(f.read())"
   ]
  },
  {
   "cell_type": "code",
   "execution_count": 307,
   "metadata": {},
   "outputs": [
    {
     "data": {
      "text/plain": [
       "SGDClassifier(alpha=0.0001, average=False, class_weight=None, epsilon=0.1,\n",
       "       eta0=0.0, fit_intercept=True, l1_ratio=0.15,\n",
       "       learning_rate='optimal', loss='hinge', max_iter=5, n_iter=None,\n",
       "       n_jobs=1, penalty='l2', power_t=0.5, random_state=2017,\n",
       "       shuffle=True, tol=None, verbose=0, warm_start=False)"
      ]
     },
     "execution_count": 307,
     "metadata": {},
     "output_type": "execute_result"
    }
   ],
   "source": [
    "# Preprocessing\n",
    "\n",
    "participants = glob.glob('CK+/Emotion/*')\n",
    "\n",
    "images = []\n",
    "emotions = []\n",
    "\n",
    "for participant in participants:\n",
    "    # Get the participant ID from the last 4 chars\n",
    "    participant_id = participant[-4:]\n",
    "\n",
    "    sessions = glob.glob('{}/*'.format(participant))\n",
    "    for session in sessions:\n",
    "        # Get the participant ID from the last 3 chars\n",
    "        session_id = session[-3:]\n",
    "\n",
    "        current_image, current_emotion = images_emotions_data(participant_id, session_id)\n",
    "        images += current_image\n",
    "        emotions += current_emotion"
   ]
  },
  {
   "cell_type": "code",
   "execution_count": 325,
   "metadata": {
    "collapsed": true
   },
   "outputs": [],
   "source": [
    "X_train, X_test, y_train, y_test = train_test_split(np.array(images), np.array(emotions),\n",
    "                                                    test_size=0.1, random_state=2017)\n",
    "shuffle_index = np.random.permutation(len(X_train))\n",
    "X_train, y_train = X_train[shuffle_index], y_train[shuffle_index]"
   ]
  },
  {
   "cell_type": "code",
   "execution_count": 329,
   "metadata": {},
   "outputs": [
    {
     "data": {
      "text/plain": [
       "SGDClassifier(alpha=0.0001, average=False, class_weight=None, epsilon=0.1,\n",
       "       eta0=0.0, fit_intercept=True, l1_ratio=0.15,\n",
       "       learning_rate='optimal', loss='hinge', max_iter=800, n_iter=None,\n",
       "       n_jobs=1, penalty='l2', power_t=0.5, random_state=2017,\n",
       "       shuffle=True, tol=None, verbose=0, warm_start=False)"
      ]
     },
     "execution_count": 329,
     "metadata": {},
     "output_type": "execute_result"
    }
   ],
   "source": [
    "clf = SGDClassifier(random_state=2017, max_iter=800)\n",
    "clf.fit(X_train, y_train)"
   ]
  },
  {
   "cell_type": "code",
   "execution_count": 332,
   "metadata": {},
   "outputs": [
    {
     "data": {
      "text/plain": [
       "array(['disgust'],\n",
       "      dtype='<U8')"
      ]
     },
     "execution_count": 332,
     "metadata": {},
     "output_type": "execute_result"
    }
   ],
   "source": [
    "clf.predict([load_and_process_image('angry.jpeg')])"
   ]
  },
  {
   "cell_type": "code",
   "execution_count": null,
   "metadata": {
    "collapsed": true
   },
   "outputs": [],
   "source": []
  }
 ],
 "metadata": {
  "kernelspec": {
   "display_name": "Python 3",
   "language": "python",
   "name": "python3"
  },
  "language_info": {
   "codemirror_mode": {
    "name": "ipython",
    "version": 3
   },
   "file_extension": ".py",
   "mimetype": "text/x-python",
   "name": "python",
   "nbconvert_exporter": "python",
   "pygments_lexer": "ipython3",
   "version": "3.6.2"
  }
 },
 "nbformat": 4,
 "nbformat_minor": 2
}
